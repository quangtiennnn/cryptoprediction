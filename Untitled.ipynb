{
 "cells": [
  {
   "cell_type": "markdown",
   "id": "8de31d18",
   "metadata": {},
   "source": [
    "# Financial Time Series\n",
    "\n",
    "<br>\n",
    "<div style=\"text-align: justify\">\n",
    "Financial time series data is one of the most important types of data in finance. This\n",
    "is data indexed by date and/or time. For example, prices of stocks over time represent\n",
    "financial time series data. Similarly, the EUR/USD exchange rate over time represents\n",
    "a financial time series; the exchange rate is quoted in brief intervals of time, and a\n",
    "collection of such quotes then is a time series of exchange rates\n",
    "</div>"
   ]
  },
  {
   "cell_type": "markdown",
   "id": "30522698",
   "metadata": {},
   "source": [
    "## Table of contents\n",
    "\n",
    "- **Financial Data**\n",
    "    + This section is about the basics of working with financial times series data using pandas:\n",
    "- **Rolling Statistics**\n",
    "    + Rolling Statistics (Thống kê trượt) is a concept in statistics and data analysis, typically used to assess the trends and variability of data over time.\n",
    "- **Correlation Analysis**\n",
    "- **High-Frequency Data**\n",
    "\n",
    "\n"
   ]
  },
  {
   "cell_type": "markdown",
   "id": "8a0af93c",
   "metadata": {},
   "source": [
    "## Financial Data\n",
    "This section works with a locally stored financial data set in the form of a CSV file, we have created by *CryptoData.py*, we will introduce later. However, for now we have the *output_data.csv*, which contains all the information of Bitcoin Time Series Dataset from **alphavantage.co**."
   ]
  },
  {
   "cell_type": "markdown",
   "id": "d5be5701",
   "metadata": {},
   "source": [
    "### Data Import"
   ]
  },
  {
   "cell_type": "markdown",
   "id": "d5820b49",
   "metadata": {},
   "source": [
    "#### Initialization"
   ]
  },
  {
   "cell_type": "code",
   "execution_count": 15,
   "id": "83d84c0e",
   "metadata": {},
   "outputs": [],
   "source": [
    "from CryptoData import CryptoData\n",
    "import numpy as np\n",
    "import matplotlib as mpl\n",
    "import pandas as pd\n",
    "import datetime"
   ]
  },
  {
   "cell_type": "markdown",
   "id": "c72eaa1e",
   "metadata": {},
   "source": [
    "#### Dataset"
   ]
  },
  {
   "cell_type": "code",
   "execution_count": 17,
   "id": "2a4d4922",
   "metadata": {},
   "outputs": [
    {
     "name": "stdout",
     "output_type": "stream",
     "text": [
      "DataFrame saved to output_data.csv\n"
     ]
    }
   ],
   "source": [
    "BTC = CryptoData(\"BTC\")\n",
    "df = BTC.df\n",
    "df.head()\n",
    "\n",
    "\n",
    "file_path = 'output_data.csv'\n",
    "\n",
    "# Save the DataFrame to a CSV file\n",
    "df.to_csv(file_path, index=True)\n",
    "\n",
    "print(f'DataFrame saved to {file_path}')"
   ]
  },
  {
   "cell_type": "code",
   "execution_count": 27,
   "id": "e0c647b1",
   "metadata": {},
   "outputs": [
    {
     "data": {
      "text/html": [
       "<div>\n",
       "<style scoped>\n",
       "    .dataframe tbody tr th:only-of-type {\n",
       "        vertical-align: middle;\n",
       "    }\n",
       "\n",
       "    .dataframe tbody tr th {\n",
       "        vertical-align: top;\n",
       "    }\n",
       "\n",
       "    .dataframe thead th {\n",
       "        text-align: right;\n",
       "    }\n",
       "</style>\n",
       "<table border=\"1\" class=\"dataframe\">\n",
       "  <thead>\n",
       "    <tr style=\"text-align: right;\">\n",
       "      <th></th>\n",
       "      <th>date</th>\n",
       "      <th>open</th>\n",
       "      <th>high</th>\n",
       "      <th>low</th>\n",
       "      <th>close</th>\n",
       "      <th>volume</th>\n",
       "      <th>cap</th>\n",
       "    </tr>\n",
       "  </thead>\n",
       "  <tbody>\n",
       "    <tr>\n",
       "      <th>0</th>\n",
       "      <td>2021-04-27</td>\n",
       "      <td>54001.38</td>\n",
       "      <td>55460.00</td>\n",
       "      <td>53222.00</td>\n",
       "      <td>55011.97</td>\n",
       "      <td>54064.034675</td>\n",
       "      <td>54064.034675</td>\n",
       "    </tr>\n",
       "    <tr>\n",
       "      <th>1</th>\n",
       "      <td>2021-04-28</td>\n",
       "      <td>55011.97</td>\n",
       "      <td>56428.00</td>\n",
       "      <td>53813.16</td>\n",
       "      <td>54846.22</td>\n",
       "      <td>55130.459015</td>\n",
       "      <td>55130.459015</td>\n",
       "    </tr>\n",
       "    <tr>\n",
       "      <th>2</th>\n",
       "      <td>2021-04-29</td>\n",
       "      <td>54846.23</td>\n",
       "      <td>55195.84</td>\n",
       "      <td>52330.94</td>\n",
       "      <td>53555.00</td>\n",
       "      <td>52486.019455</td>\n",
       "      <td>52486.019455</td>\n",
       "    </tr>\n",
       "    <tr>\n",
       "      <th>3</th>\n",
       "      <td>2021-04-30</td>\n",
       "      <td>53555.00</td>\n",
       "      <td>57963.00</td>\n",
       "      <td>53013.01</td>\n",
       "      <td>57694.27</td>\n",
       "      <td>68578.910045</td>\n",
       "      <td>68578.910045</td>\n",
       "    </tr>\n",
       "    <tr>\n",
       "      <th>4</th>\n",
       "      <td>2021-05-01</td>\n",
       "      <td>57697.25</td>\n",
       "      <td>58458.07</td>\n",
       "      <td>56956.14</td>\n",
       "      <td>57800.37</td>\n",
       "      <td>42600.351836</td>\n",
       "      <td>42600.351836</td>\n",
       "    </tr>\n",
       "  </tbody>\n",
       "</table>\n",
       "</div>"
      ],
      "text/plain": [
       "         date      open      high       low     close        volume  \\\n",
       "0  2021-04-27  54001.38  55460.00  53222.00  55011.97  54064.034675   \n",
       "1  2021-04-28  55011.97  56428.00  53813.16  54846.22  55130.459015   \n",
       "2  2021-04-29  54846.23  55195.84  52330.94  53555.00  52486.019455   \n",
       "3  2021-04-30  53555.00  57963.00  53013.01  57694.27  68578.910045   \n",
       "4  2021-05-01  57697.25  58458.07  56956.14  57800.37  42600.351836   \n",
       "\n",
       "            cap  \n",
       "0  54064.034675  \n",
       "1  55130.459015  \n",
       "2  52486.019455  \n",
       "3  68578.910045  \n",
       "4  42600.351836  "
      ]
     },
     "execution_count": 27,
     "metadata": {},
     "output_type": "execute_result"
    }
   ],
   "source": [
    "# Specify the path to your CSV file\n",
    "file_path = 'output_data.csv'\n",
    "\n",
    "# Read the CSV file into a DataFrame\n",
    "data = pd.read_csv(file_path)\n",
    "\n",
    "# Display the DataFrame\n",
    "data.head()"
   ]
  },
  {
   "cell_type": "code",
   "execution_count": 19,
   "id": "0e7653e2",
   "metadata": {},
   "outputs": [
    {
     "data": {
      "text/html": [
       "<div>\n",
       "<style scoped>\n",
       "    .dataframe tbody tr th:only-of-type {\n",
       "        vertical-align: middle;\n",
       "    }\n",
       "\n",
       "    .dataframe tbody tr th {\n",
       "        vertical-align: top;\n",
       "    }\n",
       "\n",
       "    .dataframe thead th {\n",
       "        text-align: right;\n",
       "    }\n",
       "</style>\n",
       "<table border=\"1\" class=\"dataframe\">\n",
       "  <thead>\n",
       "    <tr style=\"text-align: right;\">\n",
       "      <th></th>\n",
       "      <th>count</th>\n",
       "      <th>mean</th>\n",
       "      <th>std</th>\n",
       "      <th>min</th>\n",
       "      <th>25%</th>\n",
       "      <th>50%</th>\n",
       "      <th>75%</th>\n",
       "      <th>max</th>\n",
       "    </tr>\n",
       "  </thead>\n",
       "  <tbody>\n",
       "    <tr>\n",
       "      <th>open</th>\n",
       "      <td>1000.0</td>\n",
       "      <td>33484.85</td>\n",
       "      <td>11875.07</td>\n",
       "      <td>15781.29</td>\n",
       "      <td>23545.57</td>\n",
       "      <td>30287.08</td>\n",
       "      <td>42209.24</td>\n",
       "      <td>67525.82</td>\n",
       "    </tr>\n",
       "    <tr>\n",
       "      <th>high</th>\n",
       "      <td>1000.0</td>\n",
       "      <td>34253.03</td>\n",
       "      <td>12205.25</td>\n",
       "      <td>16315.00</td>\n",
       "      <td>24219.43</td>\n",
       "      <td>30743.66</td>\n",
       "      <td>43079.82</td>\n",
       "      <td>69000.00</td>\n",
       "    </tr>\n",
       "    <tr>\n",
       "      <th>low</th>\n",
       "      <td>1000.0</td>\n",
       "      <td>32634.53</td>\n",
       "      <td>11470.09</td>\n",
       "      <td>15476.00</td>\n",
       "      <td>23109.97</td>\n",
       "      <td>29713.68</td>\n",
       "      <td>41250.50</td>\n",
       "      <td>66222.40</td>\n",
       "    </tr>\n",
       "    <tr>\n",
       "      <th>close</th>\n",
       "      <td>1000.0</td>\n",
       "      <td>33472.60</td>\n",
       "      <td>11860.27</td>\n",
       "      <td>15781.29</td>\n",
       "      <td>23545.57</td>\n",
       "      <td>30287.08</td>\n",
       "      <td>42202.81</td>\n",
       "      <td>67525.83</td>\n",
       "    </tr>\n",
       "    <tr>\n",
       "      <th>volume</th>\n",
       "      <td>1000.0</td>\n",
       "      <td>106766.33</td>\n",
       "      <td>114128.91</td>\n",
       "      <td>611.24</td>\n",
       "      <td>35999.76</td>\n",
       "      <td>55221.59</td>\n",
       "      <td>139773.34</td>\n",
       "      <td>760705.36</td>\n",
       "    </tr>\n",
       "    <tr>\n",
       "      <th>cap</th>\n",
       "      <td>1000.0</td>\n",
       "      <td>106766.33</td>\n",
       "      <td>114128.91</td>\n",
       "      <td>611.24</td>\n",
       "      <td>35999.76</td>\n",
       "      <td>55221.59</td>\n",
       "      <td>139773.34</td>\n",
       "      <td>760705.36</td>\n",
       "    </tr>\n",
       "  </tbody>\n",
       "</table>\n",
       "</div>"
      ],
      "text/plain": [
       "         count       mean        std       min       25%       50%        75%  \\\n",
       "open    1000.0   33484.85   11875.07  15781.29  23545.57  30287.08   42209.24   \n",
       "high    1000.0   34253.03   12205.25  16315.00  24219.43  30743.66   43079.82   \n",
       "low     1000.0   32634.53   11470.09  15476.00  23109.97  29713.68   41250.50   \n",
       "close   1000.0   33472.60   11860.27  15781.29  23545.57  30287.08   42202.81   \n",
       "volume  1000.0  106766.33  114128.91    611.24  35999.76  55221.59  139773.34   \n",
       "cap     1000.0  106766.33  114128.91    611.24  35999.76  55221.59  139773.34   \n",
       "\n",
       "              max  \n",
       "open     67525.82  \n",
       "high     69000.00  \n",
       "low      66222.40  \n",
       "close    67525.83  \n",
       "volume  760705.36  \n",
       "cap     760705.36  "
      ]
     },
     "execution_count": 19,
     "metadata": {},
     "output_type": "execute_result"
    }
   ],
   "source": [
    "data.describe().round(2).T"
   ]
  },
  {
   "cell_type": "markdown",
   "id": "63312b4d",
   "metadata": {},
   "source": [
    "#### Resampling\n",
    "\n",
    "- Resampling is an important operation on financial time series data. Usually this takes the form of **downsampling**.\n",
    "- For example: a tick data series is resampled to one-minute intervals or a time series with daily observations is resampled to one with weekly or monthly observations."
   ]
  },
  {
   "cell_type": "code",
   "execution_count": 31,
   "id": "a3b16a25",
   "metadata": {},
   "outputs": [],
   "source": [
    "data.date = pd.to_datetime(data.date)\n",
    "data.set_index('date', inplace=True)\n"
   ]
  },
  {
   "cell_type": "code",
   "execution_count": 33,
   "id": "554f7e1e",
   "metadata": {},
   "outputs": [
    {
     "data": {
      "text/plain": [
       "pandas.core.indexes.datetimes.DatetimeIndex"
      ]
     },
     "execution_count": 33,
     "metadata": {},
     "output_type": "execute_result"
    }
   ],
   "source": [
    "type(data.index)"
   ]
  },
  {
   "cell_type": "code",
   "execution_count": 38,
   "id": "4a18e2f2",
   "metadata": {},
   "outputs": [
    {
     "data": {
      "text/html": [
       "<div>\n",
       "<style scoped>\n",
       "    .dataframe tbody tr th:only-of-type {\n",
       "        vertical-align: middle;\n",
       "    }\n",
       "\n",
       "    .dataframe tbody tr th {\n",
       "        vertical-align: top;\n",
       "    }\n",
       "\n",
       "    .dataframe thead th {\n",
       "        text-align: right;\n",
       "    }\n",
       "</style>\n",
       "<table border=\"1\" class=\"dataframe\">\n",
       "  <thead>\n",
       "    <tr style=\"text-align: right;\">\n",
       "      <th></th>\n",
       "      <th>open</th>\n",
       "      <th>high</th>\n",
       "      <th>low</th>\n",
       "      <th>close</th>\n",
       "      <th>volume</th>\n",
       "      <th>cap</th>\n",
       "    </tr>\n",
       "    <tr>\n",
       "      <th>date</th>\n",
       "      <th></th>\n",
       "      <th></th>\n",
       "      <th></th>\n",
       "      <th></th>\n",
       "      <th></th>\n",
       "      <th></th>\n",
       "    </tr>\n",
       "  </thead>\n",
       "  <tbody>\n",
       "    <tr>\n",
       "      <th>2021-05-02</th>\n",
       "      <td>57797.35</td>\n",
       "      <td>57911.02</td>\n",
       "      <td>56035.25</td>\n",
       "      <td>56578.21</td>\n",
       "      <td>36812.878863</td>\n",
       "      <td>36812.878863</td>\n",
       "    </tr>\n",
       "    <tr>\n",
       "      <th>2021-05-09</th>\n",
       "      <td>58866.53</td>\n",
       "      <td>59300.00</td>\n",
       "      <td>56235.66</td>\n",
       "      <td>58240.84</td>\n",
       "      <td>69806.119910</td>\n",
       "      <td>69806.119910</td>\n",
       "    </tr>\n",
       "    <tr>\n",
       "      <th>2021-05-16</th>\n",
       "      <td>46762.99</td>\n",
       "      <td>49795.89</td>\n",
       "      <td>43825.39</td>\n",
       "      <td>46431.50</td>\n",
       "      <td>114269.812775</td>\n",
       "      <td>114269.812775</td>\n",
       "    </tr>\n",
       "    <tr>\n",
       "      <th>2021-05-23</th>\n",
       "      <td>37458.51</td>\n",
       "      <td>38270.64</td>\n",
       "      <td>31111.01</td>\n",
       "      <td>34655.25</td>\n",
       "      <td>217136.046593</td>\n",
       "      <td>217136.046593</td>\n",
       "    </tr>\n",
       "    <tr>\n",
       "      <th>2021-05-30</th>\n",
       "      <td>34605.15</td>\n",
       "      <td>36488.00</td>\n",
       "      <td>33379.00</td>\n",
       "      <td>35641.27</td>\n",
       "      <td>73535.386967</td>\n",
       "      <td>73535.386967</td>\n",
       "    </tr>\n",
       "  </tbody>\n",
       "</table>\n",
       "</div>"
      ],
      "text/plain": [
       "                open      high       low     close         volume  \\\n",
       "date                                                                \n",
       "2021-05-02  57797.35  57911.02  56035.25  56578.21   36812.878863   \n",
       "2021-05-09  58866.53  59300.00  56235.66  58240.84   69806.119910   \n",
       "2021-05-16  46762.99  49795.89  43825.39  46431.50  114269.812775   \n",
       "2021-05-23  37458.51  38270.64  31111.01  34655.25  217136.046593   \n",
       "2021-05-30  34605.15  36488.00  33379.00  35641.27   73535.386967   \n",
       "\n",
       "                      cap  \n",
       "date                       \n",
       "2021-05-02   36812.878863  \n",
       "2021-05-09   69806.119910  \n",
       "2021-05-16  114269.812775  \n",
       "2021-05-23  217136.046593  \n",
       "2021-05-30   73535.386967  "
      ]
     },
     "execution_count": 38,
     "metadata": {},
     "output_type": "execute_result"
    }
   ],
   "source": [
    "data.resample('1w', label='right').last().head()"
   ]
  },
  {
   "cell_type": "code",
   "execution_count": null,
   "id": "7db7a342",
   "metadata": {},
   "outputs": [],
   "source": []
  }
 ],
 "metadata": {
  "kernelspec": {
   "display_name": "Python 3 (ipykernel)",
   "language": "python",
   "name": "python3"
  },
  "language_info": {
   "codemirror_mode": {
    "name": "ipython",
    "version": 3
   },
   "file_extension": ".py",
   "mimetype": "text/x-python",
   "name": "python",
   "nbconvert_exporter": "python",
   "pygments_lexer": "ipython3",
   "version": "3.10.6"
  }
 },
 "nbformat": 4,
 "nbformat_minor": 5
}
